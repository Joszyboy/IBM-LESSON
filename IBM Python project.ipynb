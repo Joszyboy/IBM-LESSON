{
 "cells": [
  {
   "cell_type": "markdown",
   "id": "1a8ab32a",
   "metadata": {},
   "source": [
    "### Question 1\n",
    "Use Yfinance to extract Tesla data"
   ]
  },
  {
   "cell_type": "code",
   "execution_count": 5,
   "id": "f06f9339",
   "metadata": {},
   "outputs": [],
   "source": [
    "import yfinance as yf\n",
    "import pandas as pd\n",
    "import requests\n",
    "from bs4 import BeautifulSoup\n",
    "import plotly.graph_objects as go\n",
    "from plotly.subplots import make_subplots"
   ]
  },
  {
   "cell_type": "code",
   "execution_count": 2,
   "id": "d7fbcbb0",
   "metadata": {},
   "outputs": [],
   "source": [
    "shopify = yf.Ticker(\"SHOP\")"
   ]
  },
  {
   "cell_type": "code",
   "execution_count": 3,
   "id": "ed15314e",
   "metadata": {},
   "outputs": [],
   "source": [
    "shopify_data = shopify.history(period=\"max\")"
   ]
  },
  {
   "cell_type": "code",
   "execution_count": 4,
   "id": "8450f9e9",
   "metadata": {},
   "outputs": [
    {
     "data": {
      "text/html": [
       "<div>\n",
       "<style scoped>\n",
       "    .dataframe tbody tr th:only-of-type {\n",
       "        vertical-align: middle;\n",
       "    }\n",
       "\n",
       "    .dataframe tbody tr th {\n",
       "        vertical-align: top;\n",
       "    }\n",
       "\n",
       "    .dataframe thead th {\n",
       "        text-align: right;\n",
       "    }\n",
       "</style>\n",
       "<table border=\"1\" class=\"dataframe\">\n",
       "  <thead>\n",
       "    <tr style=\"text-align: right;\">\n",
       "      <th></th>\n",
       "      <th>Date</th>\n",
       "      <th>Open</th>\n",
       "      <th>High</th>\n",
       "      <th>Low</th>\n",
       "      <th>Close</th>\n",
       "      <th>Volume</th>\n",
       "      <th>Dividends</th>\n",
       "      <th>Stock Splits</th>\n",
       "    </tr>\n",
       "  </thead>\n",
       "  <tbody>\n",
       "    <tr>\n",
       "      <th>0</th>\n",
       "      <td>2015-05-20 00:00:00-04:00</td>\n",
       "      <td>1.700</td>\n",
       "      <td>1.700</td>\n",
       "      <td>1.700</td>\n",
       "      <td>1.700</td>\n",
       "      <td>0</td>\n",
       "      <td>0.0</td>\n",
       "      <td>0.0</td>\n",
       "    </tr>\n",
       "    <tr>\n",
       "      <th>1</th>\n",
       "      <td>2015-05-21 00:00:00-04:00</td>\n",
       "      <td>2.800</td>\n",
       "      <td>2.874</td>\n",
       "      <td>2.411</td>\n",
       "      <td>2.568</td>\n",
       "      <td>123039000</td>\n",
       "      <td>0.0</td>\n",
       "      <td>0.0</td>\n",
       "    </tr>\n",
       "    <tr>\n",
       "      <th>2</th>\n",
       "      <td>2015-05-22 00:00:00-04:00</td>\n",
       "      <td>2.607</td>\n",
       "      <td>3.110</td>\n",
       "      <td>2.600</td>\n",
       "      <td>2.831</td>\n",
       "      <td>28412000</td>\n",
       "      <td>0.0</td>\n",
       "      <td>0.0</td>\n",
       "    </tr>\n",
       "    <tr>\n",
       "      <th>3</th>\n",
       "      <td>2015-05-26 00:00:00-04:00</td>\n",
       "      <td>2.980</td>\n",
       "      <td>3.034</td>\n",
       "      <td>2.908</td>\n",
       "      <td>2.965</td>\n",
       "      <td>8202000</td>\n",
       "      <td>0.0</td>\n",
       "      <td>0.0</td>\n",
       "    </tr>\n",
       "    <tr>\n",
       "      <th>4</th>\n",
       "      <td>2015-05-27 00:00:00-04:00</td>\n",
       "      <td>3.067</td>\n",
       "      <td>3.081</td>\n",
       "      <td>2.700</td>\n",
       "      <td>2.750</td>\n",
       "      <td>7976000</td>\n",
       "      <td>0.0</td>\n",
       "      <td>0.0</td>\n",
       "    </tr>\n",
       "  </tbody>\n",
       "</table>\n",
       "</div>"
      ],
      "text/plain": [
       "                       Date   Open   High    Low  Close     Volume  Dividends  \\\n",
       "0 2015-05-20 00:00:00-04:00  1.700  1.700  1.700  1.700          0        0.0   \n",
       "1 2015-05-21 00:00:00-04:00  2.800  2.874  2.411  2.568  123039000        0.0   \n",
       "2 2015-05-22 00:00:00-04:00  2.607  3.110  2.600  2.831   28412000        0.0   \n",
       "3 2015-05-26 00:00:00-04:00  2.980  3.034  2.908  2.965    8202000        0.0   \n",
       "4 2015-05-27 00:00:00-04:00  3.067  3.081  2.700  2.750    7976000        0.0   \n",
       "\n",
       "   Stock Splits  \n",
       "0           0.0  \n",
       "1           0.0  \n",
       "2           0.0  \n",
       "3           0.0  \n",
       "4           0.0  "
      ]
     },
     "execution_count": 4,
     "metadata": {},
     "output_type": "execute_result"
    }
   ],
   "source": [
    "shopify_data.reset_index(inplace=True)\n",
    "shopify_data.head()"
   ]
  },
  {
   "cell_type": "markdown",
   "id": "99f5a565",
   "metadata": {},
   "source": [
    "### Question 2"
   ]
  },
  {
   "cell_type": "code",
   "execution_count": 6,
   "id": "b4f454ff",
   "metadata": {},
   "outputs": [],
   "source": [
    "url = \"https://cf-courses-data.s3.us.cloud-object-storage.appdomain.cloud/IBMDeveloperSkillsNetwork-PY0220EN-SkillsNetwork/labs/project/revenue.htm\""
   ]
  },
  {
   "cell_type": "code",
   "execution_count": 7,
   "id": "e65045ea",
   "metadata": {},
   "outputs": [],
   "source": [
    "html = requests.get(url).text"
   ]
  },
  {
   "cell_type": "markdown",
   "id": "95eb5962",
   "metadata": {},
   "source": [
    "Parse the html data using beautiful_soup"
   ]
  },
  {
   "cell_type": "code",
   "execution_count": 8,
   "id": "d72f8725",
   "metadata": {},
   "outputs": [],
   "source": [
    "parsed_data = BeautifulSoup(html)"
   ]
  },
  {
   "cell_type": "markdown",
   "id": "1ee53abe",
   "metadata": {},
   "source": [
    "Using BeautifulSoup or the read_html function extract the table with Tesla Revenue and store it into a dataframe named tesla_revenue. The dataframe should have columns Date and Revenue.\n",
    "\n",
    "Click here if you need help locating the table\n",
    "\n",
    "Below is the code to isolate the table, you will now need to loop through the rows and columns like in the previous lab\n",
    "\n",
    "soup.find_all(\"tbody\")[1]\n",
    "\n",
    "If you want to use the read_html function the table is located at index 1"
   ]
  },
  {
   "cell_type": "code",
   "execution_count": 9,
   "id": "9c674706",
   "metadata": {},
   "outputs": [],
   "source": [
    "dates = []\n",
    "revenues = []\n",
    "\n",
    "table = parsed_data.find_all(\"tbody\")[1]    # Want the second table showing quarterly revenue\n",
    "table_rows = table.find_all(\"tr\")\n",
    "for row in table_rows:\n",
    "    try:\n",
    "        cells = row.find_all(\"td\")\n",
    "        dates.append(str(cells[0].string))\n",
    "        revenues.append(str(cells[1].string))\n",
    "    except:\n",
    "        continue\n",
    "\n",
    "tesla_revenue = pd.DataFrame(data = {\"Date\":dates, \"Revenue\":revenues})"
   ]
  },
  {
   "cell_type": "markdown",
   "id": "1de5e791",
   "metadata": {},
   "source": [
    "Execute the following line to remove the comma and dollar sign from the Revenue column."
   ]
  },
  {
   "cell_type": "code",
   "execution_count": 10,
   "id": "37e956f6",
   "metadata": {},
   "outputs": [
    {
     "name": "stderr",
     "output_type": "stream",
     "text": [
      "C:\\Users\\hp\\AppData\\Local\\Temp\\ipykernel_9860\\349343550.py:1: FutureWarning: The default value of regex will change from True to False in a future version.\n",
      "  tesla_revenue[\"Revenue\"] = tesla_revenue['Revenue'].str.replace(',|\\$',\"\")\n"
     ]
    }
   ],
   "source": [
    "tesla_revenue[\"Revenue\"] = tesla_revenue['Revenue'].str.replace(',|\\$',\"\")"
   ]
  },
  {
   "cell_type": "code",
   "execution_count": 11,
   "id": "6b44891f",
   "metadata": {},
   "outputs": [],
   "source": [
    "tesla_revenue.dropna(inplace=True)\n",
    "\n",
    "tesla_revenue = tesla_revenue[tesla_revenue['Revenue'] != \"\"]"
   ]
  },
  {
   "cell_type": "markdown",
   "id": "999635fb",
   "metadata": {},
   "source": [
    "Display the last 5 row of the tesla_revenue dataframe using the tail function. Take a screenshot of the results."
   ]
  },
  {
   "cell_type": "code",
   "execution_count": 13,
   "id": "b27a6642",
   "metadata": {},
   "outputs": [
    {
     "data": {
      "text/html": [
       "<div>\n",
       "<style scoped>\n",
       "    .dataframe tbody tr th:only-of-type {\n",
       "        vertical-align: middle;\n",
       "    }\n",
       "\n",
       "    .dataframe tbody tr th {\n",
       "        vertical-align: top;\n",
       "    }\n",
       "\n",
       "    .dataframe thead th {\n",
       "        text-align: right;\n",
       "    }\n",
       "</style>\n",
       "<table border=\"1\" class=\"dataframe\">\n",
       "  <thead>\n",
       "    <tr style=\"text-align: right;\">\n",
       "      <th></th>\n",
       "      <th>Date</th>\n",
       "      <th>Revenue</th>\n",
       "    </tr>\n",
       "  </thead>\n",
       "  <tbody>\n",
       "    <tr>\n",
       "      <th>49</th>\n",
       "      <td>2010-06-30</td>\n",
       "      <td>28</td>\n",
       "    </tr>\n",
       "    <tr>\n",
       "      <th>50</th>\n",
       "      <td>2010-03-31</td>\n",
       "      <td>21</td>\n",
       "    </tr>\n",
       "    <tr>\n",
       "      <th>51</th>\n",
       "      <td>2009-12-31</td>\n",
       "      <td>None</td>\n",
       "    </tr>\n",
       "    <tr>\n",
       "      <th>52</th>\n",
       "      <td>2009-09-30</td>\n",
       "      <td>46</td>\n",
       "    </tr>\n",
       "    <tr>\n",
       "      <th>53</th>\n",
       "      <td>2009-06-30</td>\n",
       "      <td>27</td>\n",
       "    </tr>\n",
       "  </tbody>\n",
       "</table>\n",
       "</div>"
      ],
      "text/plain": [
       "          Date Revenue\n",
       "49  2010-06-30      28\n",
       "50  2010-03-31      21\n",
       "51  2009-12-31    None\n",
       "52  2009-09-30      46\n",
       "53  2009-06-30      27"
      ]
     },
     "execution_count": 13,
     "metadata": {},
     "output_type": "execute_result"
    }
   ],
   "source": [
    "tesla_revenue.tail(5)"
   ]
  },
  {
   "cell_type": "markdown",
   "id": "45f8de47",
   "metadata": {},
   "source": [
    "### Question 3"
   ]
  },
  {
   "cell_type": "markdown",
   "id": "e29b0e6e",
   "metadata": {},
   "source": [
    "Using the Ticker function enter the ticker symbol of the stock we want to extract data on to create a ticker object. The stock is GameStop and its ticker symbol is GME."
   ]
  },
  {
   "cell_type": "code",
   "execution_count": 14,
   "id": "7460012f",
   "metadata": {},
   "outputs": [],
   "source": [
    "ticker2 = yf.Ticker(\"GME\")"
   ]
  },
  {
   "cell_type": "markdown",
   "id": "a7724f97",
   "metadata": {},
   "source": [
    "Using the ticker object and the function history extract stock information and save it in a dataframe named gme_data. Set the period parameter to max so we get information for the maximum amount of time."
   ]
  },
  {
   "cell_type": "code",
   "execution_count": 18,
   "id": "352abe7c",
   "metadata": {},
   "outputs": [],
   "source": [
    "gme_data = ticker2.history(period=\"max\")"
   ]
  },
  {
   "cell_type": "markdown",
   "id": "f7c5b71a",
   "metadata": {},
   "source": [
    "Reset the index using the reset_index(inplace=True) function on the gme_data DataFrame and display the first five rows of the gme_data dataframe using the head function. Take a screenshot of the results and code from the beginning of Question 3 to the results below."
   ]
  },
  {
   "cell_type": "code",
   "execution_count": 19,
   "id": "e1894697",
   "metadata": {},
   "outputs": [
    {
     "data": {
      "text/html": [
       "<div>\n",
       "<style scoped>\n",
       "    .dataframe tbody tr th:only-of-type {\n",
       "        vertical-align: middle;\n",
       "    }\n",
       "\n",
       "    .dataframe tbody tr th {\n",
       "        vertical-align: top;\n",
       "    }\n",
       "\n",
       "    .dataframe thead th {\n",
       "        text-align: right;\n",
       "    }\n",
       "</style>\n",
       "<table border=\"1\" class=\"dataframe\">\n",
       "  <thead>\n",
       "    <tr style=\"text-align: right;\">\n",
       "      <th></th>\n",
       "      <th>Date</th>\n",
       "      <th>Open</th>\n",
       "      <th>High</th>\n",
       "      <th>Low</th>\n",
       "      <th>Close</th>\n",
       "      <th>Volume</th>\n",
       "      <th>Dividends</th>\n",
       "      <th>Stock Splits</th>\n",
       "    </tr>\n",
       "  </thead>\n",
       "  <tbody>\n",
       "    <tr>\n",
       "      <th>0</th>\n",
       "      <td>2002-02-13 00:00:00-05:00</td>\n",
       "      <td>1.620128</td>\n",
       "      <td>1.693350</td>\n",
       "      <td>1.603296</td>\n",
       "      <td>1.691666</td>\n",
       "      <td>76216000</td>\n",
       "      <td>0.0</td>\n",
       "      <td>0.0</td>\n",
       "    </tr>\n",
       "    <tr>\n",
       "      <th>1</th>\n",
       "      <td>2002-02-14 00:00:00-05:00</td>\n",
       "      <td>1.712707</td>\n",
       "      <td>1.716074</td>\n",
       "      <td>1.670626</td>\n",
       "      <td>1.683250</td>\n",
       "      <td>11021600</td>\n",
       "      <td>0.0</td>\n",
       "      <td>0.0</td>\n",
       "    </tr>\n",
       "    <tr>\n",
       "      <th>2</th>\n",
       "      <td>2002-02-15 00:00:00-05:00</td>\n",
       "      <td>1.683250</td>\n",
       "      <td>1.687458</td>\n",
       "      <td>1.658002</td>\n",
       "      <td>1.674834</td>\n",
       "      <td>8389600</td>\n",
       "      <td>0.0</td>\n",
       "      <td>0.0</td>\n",
       "    </tr>\n",
       "    <tr>\n",
       "      <th>3</th>\n",
       "      <td>2002-02-19 00:00:00-05:00</td>\n",
       "      <td>1.666418</td>\n",
       "      <td>1.666418</td>\n",
       "      <td>1.578047</td>\n",
       "      <td>1.607504</td>\n",
       "      <td>7410400</td>\n",
       "      <td>0.0</td>\n",
       "      <td>0.0</td>\n",
       "    </tr>\n",
       "    <tr>\n",
       "      <th>4</th>\n",
       "      <td>2002-02-20 00:00:00-05:00</td>\n",
       "      <td>1.615921</td>\n",
       "      <td>1.662210</td>\n",
       "      <td>1.603296</td>\n",
       "      <td>1.662210</td>\n",
       "      <td>6892800</td>\n",
       "      <td>0.0</td>\n",
       "      <td>0.0</td>\n",
       "    </tr>\n",
       "  </tbody>\n",
       "</table>\n",
       "</div>"
      ],
      "text/plain": [
       "                       Date      Open      High       Low     Close    Volume  \\\n",
       "0 2002-02-13 00:00:00-05:00  1.620128  1.693350  1.603296  1.691666  76216000   \n",
       "1 2002-02-14 00:00:00-05:00  1.712707  1.716074  1.670626  1.683250  11021600   \n",
       "2 2002-02-15 00:00:00-05:00  1.683250  1.687458  1.658002  1.674834   8389600   \n",
       "3 2002-02-19 00:00:00-05:00  1.666418  1.666418  1.578047  1.607504   7410400   \n",
       "4 2002-02-20 00:00:00-05:00  1.615921  1.662210  1.603296  1.662210   6892800   \n",
       "\n",
       "   Dividends  Stock Splits  \n",
       "0        0.0           0.0  \n",
       "1        0.0           0.0  \n",
       "2        0.0           0.0  \n",
       "3        0.0           0.0  \n",
       "4        0.0           0.0  "
      ]
     },
     "execution_count": 19,
     "metadata": {},
     "output_type": "execute_result"
    }
   ],
   "source": [
    "gme_data.reset_index(inplace=True)\n",
    "gme_data.head(5)"
   ]
  },
  {
   "cell_type": "markdown",
   "id": "8177c501",
   "metadata": {},
   "source": [
    "### Question 4: Use Webscraping to Extract GME Revenue Data"
   ]
  },
  {
   "cell_type": "markdown",
   "id": "15632f27",
   "metadata": {},
   "source": [
    "Use the requests library to download the webpage https://cf-courses-data.s3.us.cloud-object-storage.appdomain.cloud/IBMDeveloperSkillsNetwork-PY0220EN-SkillsNetwork/labs/project/stock.html. Save the text of the response as a variable named html_data"
   ]
  },
  {
   "cell_type": "code",
   "execution_count": 20,
   "id": "80f6b89d",
   "metadata": {},
   "outputs": [],
   "source": [
    "url = \"https://cf-courses-data.s3.us.cloud-object-storage.appdomain.cloud/IBMDeveloperSkillsNetwork-PY0220EN-SkillsNetwork/labs/project/stock.html\"\n",
    "html = requests.get(url).text"
   ]
  },
  {
   "cell_type": "markdown",
   "id": "d02aa1d0",
   "metadata": {},
   "source": [
    "Parse the html data using beautiful_soup."
   ]
  },
  {
   "cell_type": "code",
   "execution_count": 21,
   "id": "b73c175f",
   "metadata": {},
   "outputs": [],
   "source": [
    "parsed_data = BeautifulSoup(html)"
   ]
  },
  {
   "cell_type": "markdown",
   "id": "adb8fec1",
   "metadata": {},
   "source": [
    "Using BeautifulSoup or the read_html function extract the table with GameStop Revenue and store it into a dataframe named gme_revenue. The dataframe should have columns Date and Revenue. Make sure the comma and dollar sign is removed from the Revenue column using a method similar to what you did in Question 2.\n",
    "\n",
    "Click here if you need help locating the table\n",
    "\n",
    "Below is the code to isolate the table, you will now need to loop through the rows and columns like in the previous lab\n",
    "\n",
    "soup.find_all(\"tbody\")[1]\n",
    "\n",
    "If you want to use the read_html function the table is located at index 1"
   ]
  },
  {
   "cell_type": "code",
   "execution_count": 22,
   "id": "af32ebda",
   "metadata": {},
   "outputs": [],
   "source": [
    "dates = []\n",
    "revenues = []\n",
    "\n",
    "table = parsed_data.find_all(\"tbody\")[1]    # Want the second table showing quarterly revenue\n",
    "table_rows = table.find_all(\"tr\")\n",
    "for row in table_rows:\n",
    "    try:\n",
    "        cells = row.find_all(\"td\")\n",
    "        dates.append(str(cells[0].string))\n",
    "        revenues.append(str(cells[1].string))\n",
    "    except:\n",
    "        continue\n",
    "\n",
    "gme_revenue = pd.DataFrame(data = {\"Date\":dates, \"Revenue\":revenues})"
   ]
  },
  {
   "cell_type": "code",
   "execution_count": 23,
   "id": "9d0e98ac",
   "metadata": {},
   "outputs": [
    {
     "name": "stderr",
     "output_type": "stream",
     "text": [
      "C:\\Users\\hp\\AppData\\Local\\Temp\\ipykernel_9860\\401512746.py:1: FutureWarning: The default value of regex will change from True to False in a future version.\n",
      "  gme_revenue[\"Revenue\"] = gme_revenue['Revenue'].str.replace(',|\\$',\"\")\n"
     ]
    }
   ],
   "source": [
    "gme_revenue[\"Revenue\"] = gme_revenue['Revenue'].str.replace(',|\\$',\"\")"
   ]
  },
  {
   "cell_type": "markdown",
   "id": "8a14b112",
   "metadata": {},
   "source": [
    "Display the last five rows of the gme_revenue dataframe using the tail function. Take a screenshot of the results."
   ]
  },
  {
   "cell_type": "code",
   "execution_count": 25,
   "id": "155c4728",
   "metadata": {},
   "outputs": [
    {
     "data": {
      "text/html": [
       "<div>\n",
       "<style scoped>\n",
       "    .dataframe tbody tr th:only-of-type {\n",
       "        vertical-align: middle;\n",
       "    }\n",
       "\n",
       "    .dataframe tbody tr th {\n",
       "        vertical-align: top;\n",
       "    }\n",
       "\n",
       "    .dataframe thead th {\n",
       "        text-align: right;\n",
       "    }\n",
       "</style>\n",
       "<table border=\"1\" class=\"dataframe\">\n",
       "  <thead>\n",
       "    <tr style=\"text-align: right;\">\n",
       "      <th></th>\n",
       "      <th>Date</th>\n",
       "      <th>Revenue</th>\n",
       "    </tr>\n",
       "  </thead>\n",
       "  <tbody>\n",
       "    <tr>\n",
       "      <th>57</th>\n",
       "      <td>2006-01-31</td>\n",
       "      <td>1667</td>\n",
       "    </tr>\n",
       "    <tr>\n",
       "      <th>58</th>\n",
       "      <td>2005-10-31</td>\n",
       "      <td>534</td>\n",
       "    </tr>\n",
       "    <tr>\n",
       "      <th>59</th>\n",
       "      <td>2005-07-31</td>\n",
       "      <td>416</td>\n",
       "    </tr>\n",
       "    <tr>\n",
       "      <th>60</th>\n",
       "      <td>2005-04-30</td>\n",
       "      <td>475</td>\n",
       "    </tr>\n",
       "    <tr>\n",
       "      <th>61</th>\n",
       "      <td>2005-01-31</td>\n",
       "      <td>709</td>\n",
       "    </tr>\n",
       "  </tbody>\n",
       "</table>\n",
       "</div>"
      ],
      "text/plain": [
       "          Date Revenue\n",
       "57  2006-01-31    1667\n",
       "58  2005-10-31     534\n",
       "59  2005-07-31     416\n",
       "60  2005-04-30     475\n",
       "61  2005-01-31     709"
      ]
     },
     "execution_count": 25,
     "metadata": {},
     "output_type": "execute_result"
    }
   ],
   "source": [
    "gme_revenue.tail(5)"
   ]
  },
  {
   "attachments": {},
   "cell_type": "markdown",
   "id": "52bd464e",
   "metadata": {},
   "source": [
    "### Question 5"
   ]
  },
  {
   "cell_type": "markdown",
   "id": "9239bd4e",
   "metadata": {},
   "source": [
    "Use the make_graph function to graph the Tesla Stock Data, also provide a title for the graph. The structure to call the make_graph function is make_graph(tesla_data, tesla_revenue, 'Tesla'). Note the graph will only show data upto June 2021."
   ]
  },
  {
   "cell_type": "code",
   "execution_count": null,
   "id": "05c7969d",
   "metadata": {},
   "outputs": [],
   "source": [
    "make_graph(tesla_data, tesla_revenue, \"Tesla\")"
   ]
  },
  {
   "cell_type": "markdown",
   "id": "a94edde2",
   "metadata": {},
   "source": [
    "### Question 6"
   ]
  },
  {
   "cell_type": "markdown",
   "id": "9c7840fc",
   "metadata": {},
   "source": [
    "Use the make_graph function to graph the GameStop Stock Data, also provide a title for the graph. The structure to call the make_graph function is make_graph(gme_data, gme_revenue, 'GameStop'). Note the graph will only show data upto June 2021."
   ]
  },
  {
   "cell_type": "code",
   "execution_count": 27,
   "id": "066e71b6",
   "metadata": {},
   "outputs": [
    {
     "ename": "NameError",
     "evalue": "name 'make_graph' is not defined",
     "output_type": "error",
     "traceback": [
      "\u001b[1;31m---------------------------------------------------------------------------\u001b[0m",
      "\u001b[1;31mNameError\u001b[0m                                 Traceback (most recent call last)",
      "Cell \u001b[1;32mIn[27], line 1\u001b[0m\n\u001b[1;32m----> 1\u001b[0m \u001b[43mmake_graph\u001b[49m(gme_data, gme_revenue, \u001b[38;5;124m\"\u001b[39m\u001b[38;5;124mGameStop\u001b[39m\u001b[38;5;124m\"\u001b[39m)\n",
      "\u001b[1;31mNameError\u001b[0m: name 'make_graph' is not defined"
     ]
    }
   ],
   "source": [
    "make_graph(gme_data, gme_revenue, \"GameStop\")"
   ]
  },
  {
   "cell_type": "code",
   "execution_count": null,
   "id": "6239caef",
   "metadata": {},
   "outputs": [],
   "source": []
  }
 ],
 "metadata": {
  "kernelspec": {
   "display_name": "Python 3 (ipykernel)",
   "language": "python",
   "name": "python3"
  },
  "language_info": {
   "codemirror_mode": {
    "name": "ipython",
    "version": 3
   },
   "file_extension": ".py",
   "mimetype": "text/x-python",
   "name": "python",
   "nbconvert_exporter": "python",
   "pygments_lexer": "ipython3",
   "version": "3.10.9"
  }
 },
 "nbformat": 4,
 "nbformat_minor": 5
}
